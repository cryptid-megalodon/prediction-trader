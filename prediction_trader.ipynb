{
 "cells": [
  {
   "cell_type": "code",
   "execution_count": 1,
   "metadata": {},
   "outputs": [],
   "source": [
    "import prediction_pipeline as pp"
   ]
  },
  {
   "cell_type": "code",
   "execution_count": 2,
   "metadata": {},
   "outputs": [],
   "source": [
    "market_description = \"\"\"\n",
    "German Federal elections to elect the 21st Bundestag are scheduled to tale place February 23, 2025.\n",
    "\n",
    "This market will resolve to \"Yes\" if Union (Unionsparteien) or CDU/CSU (CDU/CSU-Fraktion im Deutschen Bundestag) wins the most seats in the Bundestag (Germany's lower house) as a result of the next German parliamentary election.\n",
    "\n",
    "If voting in the next German parliamentary election does not occur by June 30, 2025, this market will resolve to \"No\".\n",
    "\n",
    "In the case of a tie between this party and any other for the most seats gained, this market will resolve in favor of the party whose listed abbreviation comes first in alphabetical order.\n",
    "\n",
    "This market's resolution will be based solely on the number of seats won by this party, not any coalition of which it may be a part.\n",
    "\n",
    "This market will resolve based on the final total number of seats won by each party, including any overhang mandates (Überhangmandate) and balancing mandates (Ausgleichsmandate), as reflected in the official results.\n",
    "\n",
    "This market will resolve based on the result of the election as indicated by a consensus of credible reporting. If there is ambiguity, this market will resolve based solely on the official results as reported by the German government, specifically the Federal Returning Officer (Bundeswahlleiter) (https://www.bundeswahlleiterin.de/en/).\n",
    "\n",
    "Note: The CDU and CSU will be considered a single party, NOT a coalition for the purpose of this market.\n",
    "\"\"\"\n"
   ]
  },
  {
   "cell_type": "code",
   "execution_count": 3,
   "metadata": {},
   "outputs": [
    {
     "name": "stdout",
     "output_type": "stream",
     "text": [
      "Writing report...\n",
      "Report: Based on the available search results and the specified market parameters, here is a comprehensive analysis of the upcoming German Federal elections scheduled for February 23, 2025:\n",
      "\n",
      "Key Facts and Developments:\n",
      "\n",
      "1. Election Date and Polling:\n",
      "Source: Statista (February 10, 2025)\n",
      "- The German Federal election is scheduled for February 23, 2025.\n",
      "- Current polls project the CDU to win 201 seats out of 630 in the Bundestag.\n",
      "- This would make the CDU the largest party, but without enough seats to form a government alone.\n",
      "Relevance: High - Directly relates to the market resolution criteria.\n",
      "Reliability: High - Statista is a reputable source for statistical data.\n",
      "\n",
      "2. Projected Seat Distribution:\n",
      "Source: Statista (February 10, 2025)\n",
      "- CDU/CSU: 201 seats\n",
      "- AfD: 142 seats\n",
      "- Other parties' seat projections not specified\n",
      "Relevance: High - Provides quantitative data on projected seat distribution.\n",
      "Reliability: High - Based on recent polling data.\n",
      "\n",
      "3. Coalition Possibilities:\n",
      "Source: Statista (February 10, 2025)\n",
      "- CDU has ruled out working with AfD.\n",
      "- Potential coalition partners for CDU include SPD and Green Party.\n",
      "Relevance: Medium - Affects post-election government formation but not direct market resolution.\n",
      "Reliability: High - Based on official party statements.\n",
      "\n",
      "4. Recent Electoral Performance:\n",
      "Source: Robert Schuman Foundation (February 18, 2025)\n",
      "- In the June 9, 2024 European elections, CDU/CSU won with 30.02% of the vote.\n",
      "- AfD came second with 15.89%, followed by SPD with 13.94%.\n",
      "Relevance: Medium - Indicates recent voting trends but not directly related to the Bundestag election.\n",
      "Reliability: High - Reputable foundation reporting on official election results.\n",
      "\n",
      "5. Current Chancellor and Opposition:\n",
      "Source: Euronews (February 10, 2025)\n",
      "- Olaf Scholz's (SPD) future as Chancellor is in jeopardy.\n",
      "- Friedrich Merz (CDU) is the favorite for the chancellorship.\n",
      "Relevance: Medium - Indicates political sentiment but not directly related to seat distribution.\n",
      "Reliability: Medium - News report based on current political analysis.\n",
      "\n",
      "6. Economic Context:\n",
      "Source: Euronews (February 10, 2025)\n",
      "- Germany's economy has shrunk for two consecutive years.\n",
      "- Issues include bureaucracy, rising energy costs, and challenges in the automotive industry.\n",
      "Relevance: Medium - May influence voter preferences but not directly related to seat distribution.\n",
      "Reliability: Medium - News report based on economic data.\n",
      "\n",
      "7. CDU Policy Priorities:\n",
      "Source: Euronews (February 10, 2025)\n",
      "- CDU is pushing for tax cuts and military reform.\n",
      "- Proposing an overhaul of immigration and asylum rules.\n",
      "- \"Agenda 2030\" aims to revitalize Germany's economy.\n",
      "Relevance: Medium - May influence voter preferences but not directly related to seat distribution.\n",
      "Reliability: Medium - News report based on party statements.\n",
      "\n",
      "8. Opinion Polling:\n",
      "Source: Wikipedia (February 16, 2025)\n",
      "- CDU/CSU, SPD, AfD, and Greens are expected to pass the 5% electoral threshold comfortably.\n",
      "- FDP, Die Linke, and BSW are polling around 5%, at risk of not entering the Bundestag.\n",
      "Relevance: High - Provides recent polling data relevant to potential seat distribution.\n",
      "Reliability: Medium - Wikipedia compilation of various polls, reliability depends on individual poll sources.\n",
      "\n",
      "9. Electoral System:\n",
      "Source: Wikipedia (February 16, 2025)\n",
      "- 5% threshold or winning at least three constituencies required for representation.\n",
      "- CDU and CSU are considered a single party for seat allocation purposes.\n",
      "Relevance: High - Directly affects how votes translate into seats.\n",
      "Reliability: High - Based on established German electoral law.\n",
      "\n",
      "Potential Catalysts:\n",
      "1. Last-minute campaign developments or scandals\n",
      "2. Shifts in coalition negotiations or statements\n",
      "3. Major economic or security events before the election\n",
      "\n",
      "Known Unknowns:\n",
      "1. Exact voter turnout\n",
      "2. Impact of new parties like BSW on traditional party vote shares\n",
      "3. Potential polling errors or last-minute voter shifts\n",
      "\n",
      "Based on the available information, the CDU/CSU appears to be in a strong position to win the most seats in the upcoming election. However, the final outcome remains uncertain, and traders should monitor developments closely, particularly in the final weeks before the election.\n"
     ]
    }
   ],
   "source": [
    "report = pp.create_report(market_description)"
   ]
  },
  {
   "cell_type": "code",
   "execution_count": 4,
   "metadata": {},
   "outputs": [
    {
     "name": "stdout",
     "output_type": "stream",
     "text": [
      "Starting analysis...\n",
      "Analysis: ```json\n",
      "{\n",
      "  \"reasoning\": {\n",
      "    \"base_rate_analysis\": \"Historically, the CDU/CSU has been a dominant force in German politics.  Looking at the last 20 German federal elections (1949-2021), the CDU/CSU has won the most seats in 13 out of 20 elections, representing a base rate of 65%. However, this historical average needs adjustment as the German political landscape has evolved, particularly with the rise of new parties and shifts in voter preferences.  Recent elections show a trend of declining support for traditional Volksparteien like CDU/CSU and SPD.\",\n",
      "    \"specific_evidence\": \"- **Current Polling:** Recent polls (Statista, Feb 10, 2025) project CDU/CSU to win around 201 seats out of 630, making them the largest party but still short of a majority. This suggests a lead but not a guaranteed victory in terms of seat share. Other polls (Wikipedia, Feb 16, 2025) corroborate CDU/CSU leading but also highlight the AfD as a strong second force.\\n- **Recent Electoral Performance (European Elections 2024):** CDU/CSU won the European elections with 30.02%, a significant lead over other parties. This indicates continued strong support, especially in a broader European context, which can sometimes translate to national elections.\\n- **Political Context:** The current SPD-led coalition government faces challenges, including a shrinking economy and public dissatisfaction. This could favor the opposition CDU/CSU. Friedrich Merz (CDU) is presented as a potential Chancellor, suggesting momentum for the party. However, the rise of AfD and potential fragmentation of the political landscape complicate direct comparisons to past CDU/CSU dominance.\\n- **Coalition Dynamics:** While CDU/CSU is projected to be the largest party, forming a government will require coalition partners.  Their exclusion of AfD limits options and might necessitate complex coalitions (e.g., with SPD or Greens), which could influence their overall political strength even if they have the most seats. The market only cares about 'most seats', not government formation, but coalition dynamics can indirectly influence voter behavior and party strategy.\",\n",
      "    \"key_uncertainties\": \"- **Polling Accuracy:** Polls are snapshots in time and can be inaccurate, especially closer to elections.  'Undecided' voters and late swings can significantly alter outcomes. The provided polls are relatively close to the election date, which increases their relevance but doesn't eliminate uncertainty.\\n- **Rise of AfD:** The AfD's projected strength (second largest party in polls) is a significant factor.  While they are unlikely coalition partners for CDU/CSU, their performance directly impacts the distribution of seats and could potentially limit CDU/CSU's seat share if they mobilize a different segment of the electorate more effectively than anticipated.\\n- **New Parties (BSW):** The performance of new parties like BSW is uncertain. They could siphon votes from established parties, potentially impacting CDU/CSU's overall seat count, although current polls suggest they are hovering around the 5% threshold.\\n- **Economic and Geopolitical Events:** Unexpected economic shocks or major geopolitical events in the short time before the election could shift voter priorities and influence voting behavior in unpredictable ways.  Germany's economic struggles are already noted, but a sudden worsening or improvement could have electoral consequences.\\n- **Voter Turnout:** Differential voter turnout among different demographics could favor or disfavor CDU/CSU.  Higher turnout generally makes predictions more robust, but specific demographic shifts are hard to predict.\",\n",
      "    \"potential_biases\": \"- **Confirmation Bias:**  The market report itself leans towards a CDU/CSU victory narrative. I need to be careful not to overemphasize evidence supporting this outcome and actively seek disconfirming evidence or alternative interpretations of the data.\\n- **Availability Bias:** Recent polls showing CDU/CSU leading are readily available and might be overweighted compared to historical base rates or less prominent but potentially relevant factors. I need to ensure I'm not anchoring too heavily on the latest polls.\\n- **Overconfidence:**  Based on the polls and historical precedent, it's easy to become overconfident in a CDU/CSU victory. I must acknowledge the inherent uncertainties and the possibility of unexpected outcomes in elections.\",\n",
      "    \"weighting_of_factors\": \"I am weighting the recent polling data as the most relevant indicator for the immediate future, adjusting the historical base rate downwards to reflect the changing political landscape and the specific challenges and opportunities facing CDU/CSU in this election. The strong performance in the European elections provides some upward pressure, but the uncertainties surrounding AfD's strength and polling accuracy are significant downward pressures.  The economic context is considered as a background factor that generally favors the opposition but is not a decisive swing factor on its own.  I am giving less weight to historical base rates from decades ago and more weight to recent electoral trends and current polling, while acknowledging the inherent volatility of election predictions.\"\n",
      "  },\n",
      "  \"probability\": 0.68,\n",
      "  \"uncertainty\": {\n",
      "    \"lower_bound\": 0.55,\n",
      "    \"upper_bound\": 0.80,\n",
      "    \"confidence_level\": 0.90\n",
      "  },\n",
      "  \"model_confidence\": 0.75\n",
      "}\n",
      "```\n"
     ]
    }
   ],
   "source": [
    "analysis = pp.create_market_prediction(report, market_description)"
   ]
  },
  {
   "cell_type": "code",
   "execution_count": 5,
   "metadata": {},
   "outputs": [],
   "source": [
    "import json\n",
    "clean_json = analysis.replace('```json', '').replace('```', '').strip()\n",
    "prediction = json.loads(clean_json)"
   ]
  },
  {
   "cell_type": "code",
   "execution_count": 6,
   "metadata": {},
   "outputs": [
    {
     "name": "stdout",
     "output_type": "stream",
     "text": [
      "{'reasoning': {'base_rate_analysis': 'Historically, the CDU/CSU has been a dominant force in German politics.  Looking at the last 20 German federal elections (1949-2021), the CDU/CSU has won the most seats in 13 out of 20 elections, representing a base rate of 65%. However, this historical average needs adjustment as the German political landscape has evolved, particularly with the rise of new parties and shifts in voter preferences.  Recent elections show a trend of declining support for traditional Volksparteien like CDU/CSU and SPD.', 'specific_evidence': \"- **Current Polling:** Recent polls (Statista, Feb 10, 2025) project CDU/CSU to win around 201 seats out of 630, making them the largest party but still short of a majority. This suggests a lead but not a guaranteed victory in terms of seat share. Other polls (Wikipedia, Feb 16, 2025) corroborate CDU/CSU leading but also highlight the AfD as a strong second force.\\n- **Recent Electoral Performance (European Elections 2024):** CDU/CSU won the European elections with 30.02%, a significant lead over other parties. This indicates continued strong support, especially in a broader European context, which can sometimes translate to national elections.\\n- **Political Context:** The current SPD-led coalition government faces challenges, including a shrinking economy and public dissatisfaction. This could favor the opposition CDU/CSU. Friedrich Merz (CDU) is presented as a potential Chancellor, suggesting momentum for the party. However, the rise of AfD and potential fragmentation of the political landscape complicate direct comparisons to past CDU/CSU dominance.\\n- **Coalition Dynamics:** While CDU/CSU is projected to be the largest party, forming a government will require coalition partners.  Their exclusion of AfD limits options and might necessitate complex coalitions (e.g., with SPD or Greens), which could influence their overall political strength even if they have the most seats. The market only cares about 'most seats', not government formation, but coalition dynamics can indirectly influence voter behavior and party strategy.\", 'key_uncertainties': \"- **Polling Accuracy:** Polls are snapshots in time and can be inaccurate, especially closer to elections.  'Undecided' voters and late swings can significantly alter outcomes. The provided polls are relatively close to the election date, which increases their relevance but doesn't eliminate uncertainty.\\n- **Rise of AfD:** The AfD's projected strength (second largest party in polls) is a significant factor.  While they are unlikely coalition partners for CDU/CSU, their performance directly impacts the distribution of seats and could potentially limit CDU/CSU's seat share if they mobilize a different segment of the electorate more effectively than anticipated.\\n- **New Parties (BSW):** The performance of new parties like BSW is uncertain. They could siphon votes from established parties, potentially impacting CDU/CSU's overall seat count, although current polls suggest they are hovering around the 5% threshold.\\n- **Economic and Geopolitical Events:** Unexpected economic shocks or major geopolitical events in the short time before the election could shift voter priorities and influence voting behavior in unpredictable ways.  Germany's economic struggles are already noted, but a sudden worsening or improvement could have electoral consequences.\\n- **Voter Turnout:** Differential voter turnout among different demographics could favor or disfavor CDU/CSU.  Higher turnout generally makes predictions more robust, but specific demographic shifts are hard to predict.\", 'potential_biases': \"- **Confirmation Bias:**  The market report itself leans towards a CDU/CSU victory narrative. I need to be careful not to overemphasize evidence supporting this outcome and actively seek disconfirming evidence or alternative interpretations of the data.\\n- **Availability Bias:** Recent polls showing CDU/CSU leading are readily available and might be overweighted compared to historical base rates or less prominent but potentially relevant factors. I need to ensure I'm not anchoring too heavily on the latest polls.\\n- **Overconfidence:**  Based on the polls and historical precedent, it's easy to become overconfident in a CDU/CSU victory. I must acknowledge the inherent uncertainties and the possibility of unexpected outcomes in elections.\", 'weighting_of_factors': \"I am weighting the recent polling data as the most relevant indicator for the immediate future, adjusting the historical base rate downwards to reflect the changing political landscape and the specific challenges and opportunities facing CDU/CSU in this election. The strong performance in the European elections provides some upward pressure, but the uncertainties surrounding AfD's strength and polling accuracy are significant downward pressures.  The economic context is considered as a background factor that generally favors the opposition but is not a decisive swing factor on its own.  I am giving less weight to historical base rates from decades ago and more weight to recent electoral trends and current polling, while acknowledging the inherent volatility of election predictions.\"}, 'probability': 0.68, 'uncertainty': {'lower_bound': 0.55, 'upper_bound': 0.8, 'confidence_level': 0.9}, 'model_confidence': 0.75}\n",
      "Probability: 0.68\n",
      "Reasoning: {'base_rate_analysis': 'Historically, the CDU/CSU has been a dominant force in German politics.  Looking at the last 20 German federal elections (1949-2021), the CDU/CSU has won the most seats in 13 out of 20 elections, representing a base rate of 65%. However, this historical average needs adjustment as the German political landscape has evolved, particularly with the rise of new parties and shifts in voter preferences.  Recent elections show a trend of declining support for traditional Volksparteien like CDU/CSU and SPD.', 'specific_evidence': \"- **Current Polling:** Recent polls (Statista, Feb 10, 2025) project CDU/CSU to win around 201 seats out of 630, making them the largest party but still short of a majority. This suggests a lead but not a guaranteed victory in terms of seat share. Other polls (Wikipedia, Feb 16, 2025) corroborate CDU/CSU leading but also highlight the AfD as a strong second force.\\n- **Recent Electoral Performance (European Elections 2024):** CDU/CSU won the European elections with 30.02%, a significant lead over other parties. This indicates continued strong support, especially in a broader European context, which can sometimes translate to national elections.\\n- **Political Context:** The current SPD-led coalition government faces challenges, including a shrinking economy and public dissatisfaction. This could favor the opposition CDU/CSU. Friedrich Merz (CDU) is presented as a potential Chancellor, suggesting momentum for the party. However, the rise of AfD and potential fragmentation of the political landscape complicate direct comparisons to past CDU/CSU dominance.\\n- **Coalition Dynamics:** While CDU/CSU is projected to be the largest party, forming a government will require coalition partners.  Their exclusion of AfD limits options and might necessitate complex coalitions (e.g., with SPD or Greens), which could influence their overall political strength even if they have the most seats. The market only cares about 'most seats', not government formation, but coalition dynamics can indirectly influence voter behavior and party strategy.\", 'key_uncertainties': \"- **Polling Accuracy:** Polls are snapshots in time and can be inaccurate, especially closer to elections.  'Undecided' voters and late swings can significantly alter outcomes. The provided polls are relatively close to the election date, which increases their relevance but doesn't eliminate uncertainty.\\n- **Rise of AfD:** The AfD's projected strength (second largest party in polls) is a significant factor.  While they are unlikely coalition partners for CDU/CSU, their performance directly impacts the distribution of seats and could potentially limit CDU/CSU's seat share if they mobilize a different segment of the electorate more effectively than anticipated.\\n- **New Parties (BSW):** The performance of new parties like BSW is uncertain. They could siphon votes from established parties, potentially impacting CDU/CSU's overall seat count, although current polls suggest they are hovering around the 5% threshold.\\n- **Economic and Geopolitical Events:** Unexpected economic shocks or major geopolitical events in the short time before the election could shift voter priorities and influence voting behavior in unpredictable ways.  Germany's economic struggles are already noted, but a sudden worsening or improvement could have electoral consequences.\\n- **Voter Turnout:** Differential voter turnout among different demographics could favor or disfavor CDU/CSU.  Higher turnout generally makes predictions more robust, but specific demographic shifts are hard to predict.\", 'potential_biases': \"- **Confirmation Bias:**  The market report itself leans towards a CDU/CSU victory narrative. I need to be careful not to overemphasize evidence supporting this outcome and actively seek disconfirming evidence or alternative interpretations of the data.\\n- **Availability Bias:** Recent polls showing CDU/CSU leading are readily available and might be overweighted compared to historical base rates or less prominent but potentially relevant factors. I need to ensure I'm not anchoring too heavily on the latest polls.\\n- **Overconfidence:**  Based on the polls and historical precedent, it's easy to become overconfident in a CDU/CSU victory. I must acknowledge the inherent uncertainties and the possibility of unexpected outcomes in elections.\", 'weighting_of_factors': \"I am weighting the recent polling data as the most relevant indicator for the immediate future, adjusting the historical base rate downwards to reflect the changing political landscape and the specific challenges and opportunities facing CDU/CSU in this election. The strong performance in the European elections provides some upward pressure, but the uncertainties surrounding AfD's strength and polling accuracy are significant downward pressures.  The economic context is considered as a background factor that generally favors the opposition but is not a decisive swing factor on its own.  I am giving less weight to historical base rates from decades ago and more weight to recent electoral trends and current polling, while acknowledging the inherent volatility of election predictions.\"}\n",
      "Uncertainty bounds: {'lower_bound': 0.55, 'upper_bound': 0.8, 'confidence_level': 0.9}\n",
      "Model confidence: 0.75\n"
     ]
    }
   ],
   "source": [
    "# Get prediction\n",
    "# prediction = pp.make_prediction(market_description)\n",
    "\n",
    "\n",
    "# View the full prediction output\n",
    "print(prediction)\n",
    "\n",
    "# Access individual components\n",
    "print(\"Probability:\", prediction['probability'])\n",
    "print(\"Reasoning:\", prediction['reasoning'])\n",
    "print(\"Uncertainty bounds:\", prediction['uncertainty'])\n",
    "print(\"Model confidence:\", prediction['model_confidence'])\n"
   ]
  },
  {
   "cell_type": "code",
   "execution_count": null,
   "metadata": {},
   "outputs": [],
   "source": []
  }
 ],
 "metadata": {
  "kernelspec": {
   "display_name": "Python 3",
   "language": "python",
   "name": "python3"
  },
  "language_info": {
   "codemirror_mode": {
    "name": "ipython",
    "version": 3
   },
   "file_extension": ".py",
   "mimetype": "text/x-python",
   "name": "python",
   "nbconvert_exporter": "python",
   "pygments_lexer": "ipython3",
   "version": "3.12.3"
  }
 },
 "nbformat": 4,
 "nbformat_minor": 4
}
